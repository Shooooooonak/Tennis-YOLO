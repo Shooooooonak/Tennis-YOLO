{
 "cells": [
  {
   "cell_type": "markdown",
   "metadata": {},
   "source": [
    "## Importing Dataset for Tennis Court Keypoints Detection"
   ]
  },
  {
   "cell_type": "code",
   "execution_count": null,
   "metadata": {},
   "outputs": [],
   "source": []
  },
  {
   "cell_type": "markdown",
   "metadata": {},
   "source": [
    "## Creating Torch Dataset"
   ]
  },
  {
   "cell_type": "code",
   "execution_count": 1,
   "metadata": {},
   "outputs": [],
   "source": [
    "import torch\n",
    "from torch.utils.data import Dataset, DataLoader\n",
    "from torchvision import models, transforms\n",
    "import json\n",
    "import cv2\n",
    "import numpy as np\n",
    "import os\n",
    "\n",
    "device = torch.device(\"mps\")"
   ]
  },
  {
   "cell_type": "code",
   "execution_count": 28,
   "metadata": {},
   "outputs": [],
   "source": [
    "class KeypointsDataset(Dataset):\n",
    "    def __init__(self, img_dir, data_file):\n",
    "        self.img_dir = img_dir\n",
    "        with open(data_file, \"r\") as f:\n",
    "            self.data = json.load(f)\n",
    "        \n",
    "        self.transforms = transforms.Compose([\n",
    "            transforms.ToPILImage(),\n",
    "            transforms.Resize((224, 224)),\n",
    "            transforms.ToTensor(),\n",
    "            transforms.Normalize(mean=[0.485, 0.456, 0.406], std=[0.229, 0.224, 0.225])\n",
    "        ])\n",
    "    \n",
    "    def __len__(self):\n",
    "        return len(self.data)\n",
    "    \n",
    "    def __getitem__(self, idx):\n",
    "        item = self.data[idx]\n",
    "        img = cv2.imread(f\"{self.img_dir}/{item['id']}.png\")\n",
    "        \n",
    "        h,w = img.shape[:2]\n",
    "\n",
    "        img = cv2.cvtColor(img, cv2.COLOR_BGR2RGB)\n",
    "        img = self.transforms(img)\n",
    "        kps = np.array(item['kps']).flatten()\n",
    "        kps = kps.astype(np.float32)\n",
    "\n",
    "        kps[::2] *= 224.0 / w # Adjust x coordinates\n",
    "        kps[1::2] *= 224.0 / h # Adjust y coordinates\n",
    "\n",
    "        return img, kps\n",
    "\n",
    "    "
   ]
  },
  {
   "cell_type": "code",
   "execution_count": 34,
   "metadata": {},
   "outputs": [],
   "source": [
    "train_dataset = KeypointsDataset(\"data/images\", \"data/data_train.json\")\n",
    "val_dataset = KeypointsDataset(\"data/images\", \"data/data_val.json\")\n",
    "\n",
    "train_loader = DataLoader(train_dataset, batch_size=8, shuffle=True)\n",
    "val_loader = DataLoader(val_dataset, batch_size=8, shuffle=True)"
   ]
  },
  {
   "cell_type": "code",
   "execution_count": 30,
   "metadata": {},
   "outputs": [
    {
     "name": "stdout",
     "output_type": "stream",
     "text": [
      "PuXlxKdUIes_2450\n"
     ]
    }
   ],
   "source": [
    "id = train_loader.dataset.data[0]['id']\n",
    "os.path.exists(f\"{id}.png\")\n",
    "print(id)"
   ]
  },
  {
   "cell_type": "markdown",
   "metadata": {},
   "source": [
    "## Implementation of the Model"
   ]
  },
  {
   "cell_type": "code",
   "execution_count": 14,
   "metadata": {},
   "outputs": [],
   "source": [
    "# import ssl\n",
    "# ssl._create_default_https_context = ssl._create_unverified_context"
   ]
  },
  {
   "cell_type": "code",
   "execution_count": 31,
   "metadata": {},
   "outputs": [
    {
     "name": "stderr",
     "output_type": "stream",
     "text": [
      "/Users/shounakacharya/Documents/ML_Projects/Tennis_YOLO/tenv/lib/python3.12/site-packages/torchvision/models/_utils.py:208: UserWarning: The parameter 'pretrained' is deprecated since 0.13 and may be removed in the future, please use 'weights' instead.\n",
      "  warnings.warn(\n",
      "/Users/shounakacharya/Documents/ML_Projects/Tennis_YOLO/tenv/lib/python3.12/site-packages/torchvision/models/_utils.py:223: UserWarning: Arguments other than a weight enum or `None` for 'weights' are deprecated since 0.13 and may be removed in the future. The current behavior is equivalent to passing `weights=ResNet50_Weights.IMAGENET1K_V1`. You can also use `weights=ResNet50_Weights.DEFAULT` to get the most up-to-date weights.\n",
      "  warnings.warn(msg)\n"
     ]
    }
   ],
   "source": [
    "model = models.resnet50(pretrained=True) # pretrained model for image classification \n",
    "model.fc = torch.nn.Linear(model.fc.in_features, 14*2)  # 14 keypoints with x and y components\n",
    "\n",
    "model = model.to(device) "
   ]
  },
  {
   "cell_type": "markdown",
   "metadata": {},
   "source": [
    "## Training/Finetuning the Model"
   ]
  },
  {
   "cell_type": "code",
   "execution_count": 32,
   "metadata": {},
   "outputs": [],
   "source": [
    "criterion = torch.nn.MSELoss() # loss function\n",
    "optimizer = torch.optim.Adam(model.parameters(), lr=1e-4) # optimizer\n"
   ]
  },
  {
   "cell_type": "code",
   "execution_count": 33,
   "metadata": {},
   "outputs": [
    {
     "name": "stdout",
     "output_type": "stream",
     "text": [
      "Epoch: 1/20, iteration: 1/829,  Loss: 14366.12109375\n",
      "Epoch: 1/20, iteration: 101/829,  Loss: 11119.4755859375\n",
      "Epoch: 1/20, iteration: 201/829,  Loss: 7806.4189453125\n",
      "Epoch: 1/20, iteration: 301/829,  Loss: 5172.91796875\n",
      "Epoch: 1/20, iteration: 401/829,  Loss: 3739.484375\n",
      "Epoch: 1/20, iteration: 501/829,  Loss: 1644.852783203125\n",
      "Epoch: 1/20, iteration: 601/829,  Loss: 1089.3946533203125\n",
      "Epoch: 1/20, iteration: 701/829,  Loss: 629.6969604492188\n",
      "Epoch: 1/20, iteration: 801/829,  Loss: 336.68701171875\n",
      "Epoch: 2/20, iteration: 1/829,  Loss: 206.34263610839844\n",
      "Epoch: 2/20, iteration: 101/829,  Loss: 290.23388671875\n",
      "Epoch: 2/20, iteration: 201/829,  Loss: 57.253631591796875\n",
      "Epoch: 2/20, iteration: 301/829,  Loss: 69.0167236328125\n",
      "Epoch: 2/20, iteration: 401/829,  Loss: 79.76292419433594\n",
      "Epoch: 2/20, iteration: 501/829,  Loss: 29.315753936767578\n",
      "Epoch: 2/20, iteration: 601/829,  Loss: 30.343725204467773\n",
      "Epoch: 2/20, iteration: 701/829,  Loss: 33.20823287963867\n",
      "Epoch: 2/20, iteration: 801/829,  Loss: 198.87525939941406\n",
      "Epoch: 3/20, iteration: 1/829,  Loss: 71.10734558105469\n",
      "Epoch: 3/20, iteration: 101/829,  Loss: 59.43034362792969\n",
      "Epoch: 3/20, iteration: 201/829,  Loss: 64.37446594238281\n",
      "Epoch: 3/20, iteration: 301/829,  Loss: 35.45549011230469\n",
      "Epoch: 3/20, iteration: 401/829,  Loss: 23.06356430053711\n",
      "Epoch: 3/20, iteration: 501/829,  Loss: 13.695707321166992\n",
      "Epoch: 3/20, iteration: 601/829,  Loss: 40.63384246826172\n",
      "Epoch: 3/20, iteration: 701/829,  Loss: 43.68968200683594\n",
      "Epoch: 3/20, iteration: 801/829,  Loss: 20.170978546142578\n",
      "Epoch: 4/20, iteration: 1/829,  Loss: 24.84132194519043\n",
      "Epoch: 4/20, iteration: 101/829,  Loss: 69.63070678710938\n",
      "Epoch: 4/20, iteration: 201/829,  Loss: 32.08815383911133\n",
      "Epoch: 4/20, iteration: 301/829,  Loss: 35.16221618652344\n",
      "Epoch: 4/20, iteration: 401/829,  Loss: 21.030208587646484\n",
      "Epoch: 4/20, iteration: 501/829,  Loss: 53.251625061035156\n",
      "Epoch: 4/20, iteration: 601/829,  Loss: 14.81692123413086\n",
      "Epoch: 4/20, iteration: 701/829,  Loss: 16.8243350982666\n",
      "Epoch: 4/20, iteration: 801/829,  Loss: 13.737101554870605\n",
      "Epoch: 5/20, iteration: 1/829,  Loss: 18.193960189819336\n",
      "Epoch: 5/20, iteration: 101/829,  Loss: 23.690282821655273\n",
      "Epoch: 5/20, iteration: 201/829,  Loss: 14.143672943115234\n",
      "Epoch: 5/20, iteration: 301/829,  Loss: 31.245065689086914\n",
      "Epoch: 5/20, iteration: 401/829,  Loss: 51.67754364013672\n",
      "Epoch: 5/20, iteration: 501/829,  Loss: 9.172530174255371\n",
      "Epoch: 5/20, iteration: 601/829,  Loss: 10.547839164733887\n",
      "Epoch: 5/20, iteration: 701/829,  Loss: 8.852903366088867\n",
      "Epoch: 5/20, iteration: 801/829,  Loss: 8.729023933410645\n",
      "Epoch: 6/20, iteration: 1/829,  Loss: 3.394097089767456\n",
      "Epoch: 6/20, iteration: 101/829,  Loss: 6.591460227966309\n",
      "Epoch: 6/20, iteration: 201/829,  Loss: 2.9512879848480225\n",
      "Epoch: 6/20, iteration: 301/829,  Loss: 17.95990753173828\n",
      "Epoch: 6/20, iteration: 401/829,  Loss: 13.38078498840332\n",
      "Epoch: 6/20, iteration: 501/829,  Loss: 17.623188018798828\n",
      "Epoch: 6/20, iteration: 601/829,  Loss: 8.823310852050781\n",
      "Epoch: 6/20, iteration: 701/829,  Loss: 6.486832618713379\n",
      "Epoch: 6/20, iteration: 801/829,  Loss: 5.528378486633301\n",
      "Epoch: 7/20, iteration: 1/829,  Loss: 21.050064086914062\n",
      "Epoch: 7/20, iteration: 101/829,  Loss: 11.29455280303955\n",
      "Epoch: 7/20, iteration: 201/829,  Loss: 5.0570268630981445\n",
      "Epoch: 7/20, iteration: 301/829,  Loss: 1.8132128715515137\n",
      "Epoch: 7/20, iteration: 401/829,  Loss: 11.091538429260254\n",
      "Epoch: 7/20, iteration: 501/829,  Loss: 2.4321513175964355\n",
      "Epoch: 7/20, iteration: 601/829,  Loss: 1.7525877952575684\n",
      "Epoch: 7/20, iteration: 701/829,  Loss: 2.0555858612060547\n",
      "Epoch: 7/20, iteration: 801/829,  Loss: 5.181983947753906\n",
      "Epoch: 8/20, iteration: 1/829,  Loss: 8.938995361328125\n",
      "Epoch: 8/20, iteration: 101/829,  Loss: 5.284402370452881\n",
      "Epoch: 8/20, iteration: 201/829,  Loss: 5.028321266174316\n",
      "Epoch: 8/20, iteration: 301/829,  Loss: 4.200656414031982\n",
      "Epoch: 8/20, iteration: 401/829,  Loss: 4.864963054656982\n",
      "Epoch: 8/20, iteration: 501/829,  Loss: 16.731399536132812\n",
      "Epoch: 8/20, iteration: 601/829,  Loss: 7.380335330963135\n",
      "Epoch: 8/20, iteration: 701/829,  Loss: 13.31221866607666\n",
      "Epoch: 8/20, iteration: 801/829,  Loss: 1.8207629919052124\n",
      "Epoch: 9/20, iteration: 1/829,  Loss: 0.8627324104309082\n",
      "Epoch: 9/20, iteration: 101/829,  Loss: 1.8382513523101807\n",
      "Epoch: 9/20, iteration: 201/829,  Loss: 7.519406795501709\n",
      "Epoch: 9/20, iteration: 301/829,  Loss: 6.12465238571167\n",
      "Epoch: 9/20, iteration: 401/829,  Loss: 4.198678970336914\n",
      "Epoch: 9/20, iteration: 501/829,  Loss: 3.7537338733673096\n",
      "Epoch: 9/20, iteration: 601/829,  Loss: 5.372267246246338\n",
      "Epoch: 9/20, iteration: 701/829,  Loss: 8.907146453857422\n",
      "Epoch: 9/20, iteration: 801/829,  Loss: 2.827561140060425\n",
      "Epoch: 10/20, iteration: 1/829,  Loss: 4.138797283172607\n",
      "Epoch: 10/20, iteration: 101/829,  Loss: 2.2178053855895996\n",
      "Epoch: 10/20, iteration: 201/829,  Loss: 9.902310371398926\n",
      "Epoch: 10/20, iteration: 301/829,  Loss: 4.007994651794434\n",
      "Epoch: 10/20, iteration: 401/829,  Loss: 3.732590436935425\n",
      "Epoch: 10/20, iteration: 501/829,  Loss: 2.1343164443969727\n",
      "Epoch: 10/20, iteration: 601/829,  Loss: 9.504300117492676\n",
      "Epoch: 10/20, iteration: 701/829,  Loss: 4.701803207397461\n",
      "Epoch: 10/20, iteration: 801/829,  Loss: 1.291326880455017\n",
      "Epoch: 11/20, iteration: 1/829,  Loss: 0.8974325060844421\n",
      "Epoch: 11/20, iteration: 101/829,  Loss: 1.7560564279556274\n",
      "Epoch: 11/20, iteration: 201/829,  Loss: 8.364668846130371\n",
      "Epoch: 11/20, iteration: 301/829,  Loss: 3.618654727935791\n",
      "Epoch: 11/20, iteration: 401/829,  Loss: 8.178426742553711\n",
      "Epoch: 11/20, iteration: 501/829,  Loss: 4.042978286743164\n",
      "Epoch: 11/20, iteration: 601/829,  Loss: 100.7413101196289\n",
      "Epoch: 11/20, iteration: 701/829,  Loss: 4.829041957855225\n",
      "Epoch: 11/20, iteration: 801/829,  Loss: 2.088759422302246\n",
      "Epoch: 12/20, iteration: 1/829,  Loss: 2.5592892169952393\n",
      "Epoch: 12/20, iteration: 101/829,  Loss: 7.237875938415527\n",
      "Epoch: 12/20, iteration: 201/829,  Loss: 1.8191665410995483\n",
      "Epoch: 12/20, iteration: 301/829,  Loss: 1.0274099111557007\n",
      "Epoch: 12/20, iteration: 401/829,  Loss: 3.309013605117798\n",
      "Epoch: 12/20, iteration: 501/829,  Loss: 2.9598488807678223\n",
      "Epoch: 12/20, iteration: 601/829,  Loss: 2.046766757965088\n",
      "Epoch: 12/20, iteration: 701/829,  Loss: 2.5609054565429688\n",
      "Epoch: 12/20, iteration: 801/829,  Loss: 1.3784791231155396\n",
      "Epoch: 13/20, iteration: 1/829,  Loss: 1.4306343793869019\n",
      "Epoch: 13/20, iteration: 101/829,  Loss: 1.225664496421814\n",
      "Epoch: 13/20, iteration: 201/829,  Loss: 2.754770517349243\n",
      "Epoch: 13/20, iteration: 301/829,  Loss: 1.5954813957214355\n",
      "Epoch: 13/20, iteration: 401/829,  Loss: 1.9300605058670044\n",
      "Epoch: 13/20, iteration: 501/829,  Loss: 1.6611436605453491\n",
      "Epoch: 13/20, iteration: 601/829,  Loss: 1.5280711650848389\n",
      "Epoch: 13/20, iteration: 701/829,  Loss: 1.9358104467391968\n",
      "Epoch: 13/20, iteration: 801/829,  Loss: 3.9133312702178955\n",
      "Epoch: 14/20, iteration: 1/829,  Loss: 8.205987930297852\n",
      "Epoch: 14/20, iteration: 101/829,  Loss: 1.0512950420379639\n",
      "Epoch: 14/20, iteration: 201/829,  Loss: 75.460205078125\n",
      "Epoch: 14/20, iteration: 301/829,  Loss: 3.301112651824951\n",
      "Epoch: 14/20, iteration: 401/829,  Loss: 0.7860491275787354\n",
      "Epoch: 14/20, iteration: 501/829,  Loss: 5.372774124145508\n",
      "Epoch: 14/20, iteration: 601/829,  Loss: 0.7176992297172546\n",
      "Epoch: 14/20, iteration: 701/829,  Loss: 3.6714539527893066\n",
      "Epoch: 14/20, iteration: 801/829,  Loss: 2.6740012168884277\n",
      "Epoch: 15/20, iteration: 1/829,  Loss: 1.5053638219833374\n",
      "Epoch: 15/20, iteration: 101/829,  Loss: 2.527566909790039\n",
      "Epoch: 15/20, iteration: 201/829,  Loss: 4.551052093505859\n",
      "Epoch: 15/20, iteration: 301/829,  Loss: 0.7789559960365295\n",
      "Epoch: 15/20, iteration: 401/829,  Loss: 1.5787278413772583\n",
      "Epoch: 15/20, iteration: 501/829,  Loss: 1.8557202816009521\n",
      "Epoch: 15/20, iteration: 601/829,  Loss: 6.992678165435791\n",
      "Epoch: 15/20, iteration: 701/829,  Loss: 2.683138370513916\n",
      "Epoch: 15/20, iteration: 801/829,  Loss: 0.6874917149543762\n",
      "Epoch: 16/20, iteration: 1/829,  Loss: 0.8188789486885071\n",
      "Epoch: 16/20, iteration: 101/829,  Loss: 0.5025094151496887\n",
      "Epoch: 16/20, iteration: 201/829,  Loss: 2.8020925521850586\n",
      "Epoch: 16/20, iteration: 301/829,  Loss: 0.9095695614814758\n",
      "Epoch: 16/20, iteration: 401/829,  Loss: 0.653954029083252\n",
      "Epoch: 16/20, iteration: 501/829,  Loss: 0.8337849378585815\n",
      "Epoch: 16/20, iteration: 601/829,  Loss: 2.20664381980896\n",
      "Epoch: 16/20, iteration: 701/829,  Loss: 0.693124532699585\n",
      "Epoch: 16/20, iteration: 801/829,  Loss: 1.2039964199066162\n",
      "Epoch: 17/20, iteration: 1/829,  Loss: 1.4722081422805786\n",
      "Epoch: 17/20, iteration: 101/829,  Loss: 2.002335548400879\n",
      "Epoch: 17/20, iteration: 201/829,  Loss: 0.48468017578125\n",
      "Epoch: 17/20, iteration: 301/829,  Loss: 1.9395755529403687\n",
      "Epoch: 17/20, iteration: 401/829,  Loss: 1.3499493598937988\n",
      "Epoch: 17/20, iteration: 501/829,  Loss: 2.2411890029907227\n",
      "Epoch: 17/20, iteration: 601/829,  Loss: 0.6653658151626587\n",
      "Epoch: 17/20, iteration: 701/829,  Loss: 0.5882262587547302\n",
      "Epoch: 17/20, iteration: 801/829,  Loss: 0.6650459170341492\n",
      "Epoch: 18/20, iteration: 1/829,  Loss: 2.0940909385681152\n",
      "Epoch: 18/20, iteration: 101/829,  Loss: 1.905422568321228\n",
      "Epoch: 18/20, iteration: 201/829,  Loss: 3.5356650352478027\n",
      "Epoch: 18/20, iteration: 301/829,  Loss: 0.717763364315033\n",
      "Epoch: 18/20, iteration: 401/829,  Loss: 0.9818097352981567\n",
      "Epoch: 18/20, iteration: 501/829,  Loss: 1.6292588710784912\n",
      "Epoch: 18/20, iteration: 601/829,  Loss: 3.03313946723938\n",
      "Epoch: 18/20, iteration: 701/829,  Loss: 1.2114455699920654\n",
      "Epoch: 18/20, iteration: 801/829,  Loss: 2.253958225250244\n",
      "Epoch: 19/20, iteration: 1/829,  Loss: 0.31090182065963745\n",
      "Epoch: 19/20, iteration: 101/829,  Loss: 1.6271694898605347\n",
      "Epoch: 19/20, iteration: 201/829,  Loss: 1.0020997524261475\n",
      "Epoch: 19/20, iteration: 301/829,  Loss: 1.450624704360962\n",
      "Epoch: 19/20, iteration: 401/829,  Loss: 0.7462974786758423\n",
      "Epoch: 19/20, iteration: 501/829,  Loss: 1.4856992959976196\n",
      "Epoch: 19/20, iteration: 601/829,  Loss: 0.35743099451065063\n",
      "Epoch: 19/20, iteration: 701/829,  Loss: 5.261298656463623\n",
      "Epoch: 19/20, iteration: 801/829,  Loss: 1.8302907943725586\n",
      "Epoch: 20/20, iteration: 1/829,  Loss: 1.924947738647461\n",
      "Epoch: 20/20, iteration: 101/829,  Loss: 1.4742964506149292\n",
      "Epoch: 20/20, iteration: 201/829,  Loss: 0.5766953229904175\n",
      "Epoch: 20/20, iteration: 301/829,  Loss: 0.3827102482318878\n",
      "Epoch: 20/20, iteration: 401/829,  Loss: 0.4604527950286865\n",
      "Epoch: 20/20, iteration: 501/829,  Loss: 1.600287675857544\n",
      "Epoch: 20/20, iteration: 601/829,  Loss: 0.8961246609687805\n",
      "Epoch: 20/20, iteration: 701/829,  Loss: 11.345478057861328\n",
      "Epoch: 20/20, iteration: 801/829,  Loss: 0.7605187892913818\n"
     ]
    }
   ],
   "source": [
    "epochs = 20\n",
    "for epoch in range(epochs):\n",
    "    for i, (img,kps) in enumerate(train_loader):\n",
    "\n",
    "        imgs = img.to(device)\n",
    "        kps = kps.to(device)\n",
    "\n",
    "        optimizer.zero_grad()\n",
    "        outputs = model(imgs)\n",
    "        loss = criterion(outputs, kps)\n",
    "        loss.backward()\n",
    "        optimizer.step()\n",
    "\n",
    "        if i%100 == 0:\n",
    "            print(f\"Epoch: {epoch+1}/{epochs}, iteration: {i+1}/{len(train_loader)},  Loss: {loss.item()}\")\n",
    "\n",
    "\n",
    "torch.save(model.state_dict(), \"keypoints_model.pth\") # saving the model\n"
   ]
  },
  {
   "cell_type": "code",
   "execution_count": null,
   "metadata": {},
   "outputs": [],
   "source": []
  }
 ],
 "metadata": {
  "kernelspec": {
   "display_name": "tenv",
   "language": "python",
   "name": "python3"
  },
  "language_info": {
   "codemirror_mode": {
    "name": "ipython",
    "version": 3
   },
   "file_extension": ".py",
   "mimetype": "text/x-python",
   "name": "python",
   "nbconvert_exporter": "python",
   "pygments_lexer": "ipython3",
   "version": "3.12.8"
  }
 },
 "nbformat": 4,
 "nbformat_minor": 2
}
